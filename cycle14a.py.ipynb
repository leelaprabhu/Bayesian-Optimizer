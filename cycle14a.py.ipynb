{
 "cells": [
  {
   "cell_type": "code",
   "execution_count": 1,
   "metadata": {
    "collapsed": true
   },
   "outputs": [],
   "source": [
    "from scipy.integrate import odeint\n",
    "import numpy as np\n",
    "from matplotlib.pylab import *\n",
    "import matplotlib.pylab as pylab\n",
    "from numpy import genfromtxt\n",
    "import math\n",
    "import sys"
   ]
  },
  {
   "cell_type": "code",
   "execution_count": 2,
   "metadata": {
    "collapsed": false
   },
   "outputs": [
    {
     "name": "stdout",
     "output_type": "stream",
     "text": [
      "0\n"
     ]
    }
   ],
   "source": [
    "st=0\n",
    "print st"
   ]
  },
  {
   "cell_type": "raw",
   "metadata": {},
   "source": [
    "#print param"
   ]
  },
  {
   "cell_type": "raw",
   "metadata": {},
   "source": [
    "R=param[0:6];\n",
    "T=param[6:42].reshape([6,6]);\n",
    "m=param[42:48];\n",
    "h=param[48:54];\n",
    "D=param[54:60];\n",
    "t1_2=param[60:66];"
   ]
  },
  {
   "cell_type": "raw",
   "metadata": {},
   "source": [
    "#print t1_2"
   ]
  },
  {
   "cell_type": "code",
   "execution_count": 1,
   "metadata": {
    "collapsed": false
   },
   "outputs": [
    {
     "ename": "NameError",
     "evalue": "name 'genfromtxt' is not defined",
     "output_type": "error",
     "traceback": [
      "\u001b[0;31m---------------------------------------------------------------------------\u001b[0m",
      "\u001b[0;31mNameError\u001b[0m                                 Traceback (most recent call last)",
      "\u001b[0;32m<ipython-input-1-558c041dfbbe>\u001b[0m in \u001b[0;36m<module>\u001b[0;34m()\u001b[0m\n\u001b[0;32m----> 1\u001b[0;31m \u001b[0mbcd14a\u001b[0m \u001b[0;34m=\u001b[0m \u001b[0mgenfromtxt\u001b[0m\u001b[0;34m(\u001b[0m\u001b[0;34m'bcd14aj12.csv'\u001b[0m\u001b[0;34m,\u001b[0m \u001b[0mdelimiter\u001b[0m\u001b[0;34m=\u001b[0m\u001b[0;34m','\u001b[0m\u001b[0;34m)\u001b[0m\u001b[0;34m\u001b[0m\u001b[0m\n\u001b[0m\u001b[1;32m      2\u001b[0m \u001b[0mv34\u001b[0m \u001b[0;34m=\u001b[0m \u001b[0mgenfromtxt\u001b[0m\u001b[0;34m(\u001b[0m\u001b[0;34m'v34j12.csv'\u001b[0m\u001b[0;34m,\u001b[0m \u001b[0mdelimiter\u001b[0m\u001b[0;34m=\u001b[0m\u001b[0;34m','\u001b[0m\u001b[0;34m)\u001b[0m\u001b[0;34m\u001b[0m\u001b[0m\n\u001b[1;32m      3\u001b[0m \u001b[0mv93\u001b[0m \u001b[0;34m=\u001b[0m \u001b[0mgenfromtxt\u001b[0m\u001b[0;34m(\u001b[0m\u001b[0;34m'v93j12.csv'\u001b[0m\u001b[0;34m,\u001b[0m \u001b[0mdelimiter\u001b[0m\u001b[0;34m=\u001b[0m\u001b[0;34m','\u001b[0m\u001b[0;34m)\u001b[0m\u001b[0;34m\u001b[0m\u001b[0m\n",
      "\u001b[0;31mNameError\u001b[0m: name 'genfromtxt' is not defined"
     ]
    }
   ],
   "source": [
    "bcd14a = genfromtxt('bcd14aj12.csv', delimiter=',')\n",
    "v34 = genfromtxt('v34j12.csv', delimiter=',')\n",
    "v93 = genfromtxt('v93j12.csv', delimiter=',')"
   ]
  },
  {
   "cell_type": "code",
   "execution_count": 2,
   "metadata": {
    "collapsed": false
   },
   "outputs": [
    {
     "ename": "NameError",
     "evalue": "name 'genfromtxt' is not defined",
     "output_type": "error",
     "traceback": [
      "\u001b[0;31m---------------------------------------------------------------------------\u001b[0m",
      "\u001b[0;31mNameError\u001b[0m                                 Traceback (most recent call last)",
      "\u001b[0;32m<ipython-input-2-52658132869b>\u001b[0m in \u001b[0;36m<module>\u001b[0;34m()\u001b[0m\n\u001b[0;32m----> 1\u001b[0;31m \u001b[0mx14a\u001b[0m \u001b[0;34m=\u001b[0m \u001b[0mgenfromtxt\u001b[0m\u001b[0;34m(\u001b[0m\u001b[0;34m'x14aj12.csv'\u001b[0m\u001b[0;34m,\u001b[0m \u001b[0mdelimiter\u001b[0m\u001b[0;34m=\u001b[0m\u001b[0;34m','\u001b[0m\u001b[0;34m)\u001b[0m\u001b[0;34m\u001b[0m\u001b[0m\n\u001b[0m\u001b[1;32m      2\u001b[0m \u001b[0mx14a\u001b[0m \u001b[0;34m=\u001b[0m \u001b[0mx14a\u001b[0m\u001b[0;34m.\u001b[0m\u001b[0mreshape\u001b[0m\u001b[0;34m(\u001b[0m\u001b[0;34m[\u001b[0m\u001b[0;36m8\u001b[0m\u001b[0;34m,\u001b[0m\u001b[0;36m58\u001b[0m\u001b[0;34m,\u001b[0m\u001b[0;36m6\u001b[0m\u001b[0;34m]\u001b[0m\u001b[0;34m)\u001b[0m\u001b[0;34m\u001b[0m\u001b[0m\n\u001b[1;32m      3\u001b[0m \u001b[0mx14a\u001b[0m \u001b[0;34m=\u001b[0m \u001b[0mnp\u001b[0m\u001b[0;34m.\u001b[0m\u001b[0mswapaxes\u001b[0m\u001b[0;34m(\u001b[0m\u001b[0mx14a\u001b[0m\u001b[0;34m,\u001b[0m\u001b[0;36m1\u001b[0m\u001b[0;34m,\u001b[0m\u001b[0;36m2\u001b[0m\u001b[0;34m)\u001b[0m\u001b[0;34m\u001b[0m\u001b[0m\n\u001b[1;32m      4\u001b[0m \u001b[0minit14a\u001b[0m\u001b[0;34m=\u001b[0m\u001b[0mx14a\u001b[0m\u001b[0;34m[\u001b[0m\u001b[0mst\u001b[0m\u001b[0;34m,\u001b[0m\u001b[0;34m:\u001b[0m\u001b[0;34m,\u001b[0m\u001b[0;34m:\u001b[0m\u001b[0;34m]\u001b[0m\u001b[0;34m.\u001b[0m\u001b[0mreshape\u001b[0m\u001b[0;34m(\u001b[0m\u001b[0;36m348\u001b[0m\u001b[0;34m)\u001b[0m\u001b[0;34m\u001b[0m\u001b[0m\n",
      "\u001b[0;31mNameError\u001b[0m: name 'genfromtxt' is not defined"
     ]
    }
   ],
   "source": [
    "x14a = genfromtxt('x14aj12.csv', delimiter=',')\n",
    "x14a = x14a.reshape([8,58,6])\n",
    "x14a = np.swapaxes(x14a,1,2)\n",
    "init14a=x14a[st,:,:].reshape(348)"
   ]
  },
  {
   "cell_type": "markdown",
   "metadata": {},
   "source": [
    "print init14a"
   ]
  },
  {
   "cell_type": "code",
   "execution_count": 3,
   "metadata": {
    "collapsed": false
   },
   "outputs": [
    {
     "ename": "NameError",
     "evalue": "name 'np' is not defined",
     "output_type": "error",
     "traceback": [
      "\u001b[0;31m---------------------------------------------------------------------------\u001b[0m",
      "\u001b[0;31mNameError\u001b[0m                                 Traceback (most recent call last)",
      "\u001b[0;32m<ipython-input-3-981a2e8dcfa4>\u001b[0m in \u001b[0;36m<module>\u001b[0;34m()\u001b[0m\n\u001b[0;32m----> 1\u001b[0;31m \u001b[0mtconst\u001b[0m\u001b[0;34m=\u001b[0m\u001b[0mnp\u001b[0m\u001b[0;34m.\u001b[0m\u001b[0masarray\u001b[0m\u001b[0;34m(\u001b[0m\u001b[0;34m[\u001b[0m\u001b[0;36m24.2250\u001b[0m\u001b[0;34m,\u001b[0m\u001b[0;36m30.4750\u001b[0m\u001b[0;34m,\u001b[0m\u001b[0;36m36.7250\u001b[0m\u001b[0;34m,\u001b[0m\u001b[0;36m42.9750\u001b[0m\u001b[0;34m,\u001b[0m\u001b[0;36m49.2250\u001b[0m\u001b[0;34m,\u001b[0m\u001b[0;36m55.4750\u001b[0m\u001b[0;34m,\u001b[0m\u001b[0;36m61.7250\u001b[0m\u001b[0;34m,\u001b[0m\u001b[0;36m67.9750\u001b[0m\u001b[0;34m]\u001b[0m\u001b[0;34m)\u001b[0m\u001b[0;34m;\u001b[0m\u001b[0;34m\u001b[0m\u001b[0m\n\u001b[0m\u001b[1;32m      2\u001b[0m \u001b[0mtimes\u001b[0m\u001b[0;34m=\u001b[0m\u001b[0mtconst\u001b[0m\u001b[0;34m[\u001b[0m\u001b[0mst\u001b[0m\u001b[0;34m:\u001b[0m\u001b[0;34m]\u001b[0m\u001b[0;34m\u001b[0m\u001b[0m\n\u001b[1;32m      3\u001b[0m \u001b[0;32mprint\u001b[0m \u001b[0mtimes\u001b[0m\u001b[0;34m\u001b[0m\u001b[0m\n",
      "\u001b[0;31mNameError\u001b[0m: name 'np' is not defined"
     ]
    }
   ],
   "source": [
    "tconst=np.asarray([24.2250,30.4750,36.7250,42.9750,49.2250,55.4750,61.7250,67.9750]);\n",
    "times=tconst[st:]\n",
    "print times"
   ]
  },
  {
   "cell_type": "code",
   "execution_count": 4,
   "metadata": {
    "collapsed": true
   },
   "outputs": [],
   "source": [
    "def cycle14a(g2,t,aa,param):\n",
    "    R=param[0:6];\n",
    "    T=param[6:42].reshape([6,6]);\n",
    "    m=param[42:48];\n",
    "    h=param[48:54];\n",
    "    D=param[54:60];\n",
    "    t1_2=param[60:66];\n",
    "    tp=argmin(abs(t-times))\n",
    "    dg=np.asarray([[0.0]*58]*6)\n",
    "    g=g2.reshape([6,58]);\n",
    "    for a in range(6): #gene\n",
    "        for i in range(58): #nucleus\n",
    "            Tv=T[a][0]*g[0][i]+T[a][1]*g[1][i]+T[a][2]*g[2][i]+T[a][3]*g[3][i]+T[a][4]*g[4][i]+T[a][5]*g[5][i]\n",
    "            ua=Tv+m[a]*bcd14a[i]+h[a]\n",
    "            if(i==0):\n",
    "                vv=(v34[tp][a]-g[a][i])+(g[a][i+1]-g[a][i])\n",
    "            elif(i==57):\n",
    "                vv=(g[a][i-1]-g[a][i])+(v93[tp][a]-g[a][i])\n",
    "            else:\n",
    "                vv=(g[a][i-1]-g[a][i])+(g[a][i+1]-g[a][i])\n",
    "            lmbd=math.log(2.0)/t1_2[a]\n",
    "            dg[a][i]=R[a]*0.5*(ua/((ua**2.0+1)**0.5)+1)+D[a]*vv-lmbd*g[a][i]\n",
    "    dg2=list(dg.reshape(58*6));\n",
    "    return dg2"
   ]
  },
  {
   "cell_type": "raw",
   "metadata": {},
   "source": [
    "#y3=odeint(cycle14a,init14a,[24.225, 30.475, 36.725, 42.975, 49.225, 55.475, 61.725, 67.975, 71.1])"
   ]
  },
  {
   "cell_type": "code",
   "execution_count": 7,
   "metadata": {
    "collapsed": true
   },
   "outputs": [],
   "source": [
    "def plot(res,x,lb,ub):\n",
    "    c=['b','r','m','y','k','g']\n",
    "    for i in range(6):\n",
    "        plt.plot(range(lb,ub),x[i,:],c[i]+'-')\n",
    "        plt.plot(range(lb,ub),res[i,:],c[i]+'--')"
   ]
  },
  {
   "cell_type": "code",
   "execution_count": 8,
   "metadata": {
    "collapsed": true
   },
   "outputs": [],
   "source": [
    "def plotRes(y3):\n",
    "    for i in range(st,8):\n",
    "        yres=y3[i-st,:].reshape([6,58])\n",
    "        plot(yres,x14a[i,:],35,93)\n",
    "        plt.show()"
   ]
  },
  {
   "cell_type": "code",
   "execution_count": 9,
   "metadata": {
    "collapsed": false
   },
   "outputs": [],
   "source": [
    "def calcErr(y3):\n",
    "    rmse=0.0\n",
    "    for i in range(st+1,8):\n",
    "        yy=x14a[i,:,:].reshape(348)\n",
    "        rmse=rmse+sum((yy-y3[i-st,:])**2.0)\n",
    "    rmse=(rmse/(6*58*(8-st-1)))**0.5\n",
    "    print rmse"
   ]
  },
  {
   "cell_type": "code",
   "execution_count": 10,
   "metadata": {
    "collapsed": true
   },
   "outputs": [],
   "source": [
    "def odefunc(param,yn):\n",
    "    y3=odeint(cycle14a,init14a,times, args=(1,param))\n",
    "    calcErr(y3)\n",
    "    if(yn):\n",
    "        plotRes(y3)"
   ]
  },
  {
   "cell_type": "code",
   "execution_count": 12,
   "metadata": {
    "collapsed": false
   },
   "outputs": [
    {
     "name": "stdout",
     "output_type": "stream",
     "text": [
      "20.4264902824\n"
     ]
    }
   ],
   "source": [
    "param = genfromtxt('param.csv', delimiter=',')\n",
    "odefunc(param,True)"
   ]
  },
  {
   "cell_type": "raw",
   "metadata": {
    "collapsed": false
   },
   "source": [
    "#results=[[0.0]*20]*20\n",
    "for i in np.linspace(-0.3,0.3,200):\n",
    "    param[7]=i\n",
    "    odefunc(param,False)"
   ]
  },
  {
   "cell_type": "raw",
   "metadata": {
    "collapsed": true
   },
   "source": [
    "for i in np.linspace(10,30,200):\n",
    "    param[1]=i\n",
    "    odefunc(param)"
   ]
  }
 ],
 "metadata": {
  "kernelspec": {
   "display_name": "Python 2",
   "language": "python",
   "name": "python2"
  },
  "language_info": {
   "codemirror_mode": {
    "name": "ipython",
    "version": 2
   },
   "file_extension": ".py",
   "mimetype": "text/x-python",
   "name": "python",
   "nbconvert_exporter": "python",
   "pygments_lexer": "ipython2",
   "version": "2.7.12"
  }
 },
 "nbformat": 4,
 "nbformat_minor": 0
}
