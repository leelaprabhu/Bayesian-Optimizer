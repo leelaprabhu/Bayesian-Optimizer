{
 "cells": [
  {
   "cell_type": "raw",
   "metadata": {},
   "source": [
    "Imports"
   ]
  },
  {
   "cell_type": "code",
   "execution_count": 2,
   "metadata": {
    "collapsed": true
   },
   "outputs": [],
   "source": [
    "from scipy.integrate import odeint\n",
    "import numpy as np\n",
    "from matplotlib.pylab import *\n",
    "import matplotlib.pylab as pylab\n",
    "from numpy import genfromtxt\n",
    "import math"
   ]
  },
  {
   "cell_type": "raw",
   "metadata": {},
   "source": [
    "Load parameters"
   ]
  },
  {
   "cell_type": "code",
   "execution_count": 3,
   "metadata": {
    "collapsed": true
   },
   "outputs": [],
   "source": [
    "param = genfromtxt('param.csv', delimiter=',')"
   ]
  },
  {
   "cell_type": "code",
   "execution_count": 4,
   "metadata": {
    "collapsed": false
   },
   "outputs": [],
   "source": [
    "R=param[0:6];\n",
    "T=param[6:42].reshape([6,6]);\n",
    "m=param[42:48];\n",
    "h=param[48:54];\n",
    "D=param[54:60];\n",
    "t1_2=param[60:66];"
   ]
  },
  {
   "cell_type": "code",
   "execution_count": 45,
   "metadata": {
    "collapsed": true
   },
   "outputs": [],
   "source": [
    "v16=[78.77,    104.27,    28.35,    43.22,    0.0,    20.69];\n",
    "v47=[104.26,    7.56,       15.42,    40.34,    0.0,    26.88];"
   ]
  },
  {
   "cell_type": "code",
   "execution_count": 46,
   "metadata": {
    "collapsed": false,
    "scrolled": true
   },
   "outputs": [],
   "source": [
    "init13 = genfromtxt('init13.csv', delimiter=',')\n",
    "#print init13\n",
    "bcd13 = genfromtxt('bcd13.csv', delimiter=',')"
   ]
  },
  {
   "cell_type": "code",
   "execution_count": 47,
   "metadata": {
    "collapsed": true
   },
   "outputs": [],
   "source": [
    "def cycle13(g2,t):\n",
    "    dg=np.asarray([[0.0]*30]*6)\n",
    "    g=g2.reshape([6,30]);\n",
    "    for a in range(6): #gene\n",
    "        for i in range(30): #nucleus\n",
    "            Tv=T[a][0]*g[0][i]+T[a][1]*g[1][i]+T[a][2]*g[2][i]+T[a][3]*g[3][i]+T[a][4]*g[4][i]+T[a][5]*g[5][i]\n",
    "            ua=Tv+m[a]*bcd13[i]+h[a]\n",
    "            if(i==0):\n",
    "                vv=(v16[a]-g[a][i])+(g[a][i+1]-g[a][i])\n",
    "            elif(i==29):\n",
    "                vv=(g[a][i-1]-g[a][i])+(v47[a]-g[a][i])\n",
    "            else:\n",
    "                vv=(g[a][i-1]-g[a][i])+(g[a][i+1]-g[a][i])\n",
    "            lmbd=math.log(2.0)/t1_2[a]\n",
    "            dg[a][i]=R[a]*0.5*(ua/((ua**2.0+1)**0.5)+1)+D[a]*vv-lmbd*g[a][i]\n",
    "    dg2=list(dg.reshape(30*6));\n",
    "    return dg2"
   ]
  },
  {
   "cell_type": "code",
   "execution_count": 48,
   "metadata": {
    "collapsed": true
   },
   "outputs": [],
   "source": [
    "x13 = genfromtxt('x13.csv', delimiter=',').T\n",
    "res=x13.reshape(180)"
   ]
  },
  {
   "cell_type": "code",
   "execution_count": 49,
   "metadata": {
    "collapsed": true
   },
   "outputs": [],
   "source": [
    "y=odeint(cycle13,init13,[0.0, 10.55, 16.0])\n",
    "yres=y[1,:].reshape([6,30])"
   ]
  },
  {
   "cell_type": "code",
   "execution_count": 50,
   "metadata": {
    "collapsed": false
   },
   "outputs": [],
   "source": [
    "def plot(res,x,lb,ub):\n",
    "    c=['b','r','m','y','k','g']\n",
    "    for i in range(6):\n",
    "        plt.plot(range(lb,ub),x[i,:],c[i]+'-')\n",
    "        plt.plot(range(lb,ub),res[i,:],c[i]+'--')"
   ]
  },
  {
   "cell_type": "code",
   "execution_count": 51,
   "metadata": {
    "collapsed": false
   },
   "outputs": [
    {
     "name": "stdout",
     "output_type": "stream",
     "text": [
      "(6, 30)\n",
      "(6, 30)\n"
     ]
    }
   ],
   "source": [
    "print yres.shape\n",
    "print x13.shape"
   ]
  },
  {
   "cell_type": "code",
   "execution_count": 52,
   "metadata": {
    "collapsed": false
   },
   "outputs": [],
   "source": [
    "plot(yres,x13,17,47)\n",
    "#plt.show()"
   ]
  },
  {
   "cell_type": "code",
   "execution_count": 53,
   "metadata": {
    "collapsed": false
   },
   "outputs": [
    {
     "name": "stdout",
     "output_type": "stream",
     "text": [
      "48.0356541004\n"
     ]
    }
   ],
   "source": [
    "print (sum((res-y[1,:])**2.0)/180.0)**0.5"
   ]
  },
  {
   "cell_type": "code",
   "execution_count": 54,
   "metadata": {
    "collapsed": true
   },
   "outputs": [],
   "source": [
    "def mitosis(g2,t):\n",
    "    dg=np.asarray([[0.0]*30]*6)\n",
    "    g=g2.reshape([6,30]);\n",
    "    for a in range(6): #gene\n",
    "        for i in range(30): #nucleus\n",
    "            if(i==0):\n",
    "                vv=(v16[a]-g[a][i])+(g[a][i+1]-g[a][i])\n",
    "            elif(i==29):\n",
    "                vv=(g[a][i-1]-g[a][i])+(v47[a]-g[a][i])\n",
    "            else:\n",
    "                vv=(g[a][i-1]-g[a][i])+(g[a][i+1]-g[a][i])\n",
    "            lmbd=math.log(2.0)/t1_2[a]\n",
    "            dg[a][i]=D[a]*vv-lmbd*g[a][i]\n",
    "    dg2=list(dg.reshape(30*6));\n",
    "    return dg2"
   ]
  },
  {
   "cell_type": "code",
   "execution_count": 55,
   "metadata": {
    "collapsed": false
   },
   "outputs": [],
   "source": [
    "y2=odeint(mitosis,y[1,:],[16.0, 21.1])\n",
    "yres2=y2[1,:].reshape([6,30])"
   ]
  },
  {
   "cell_type": "code",
   "execution_count": 56,
   "metadata": {
    "collapsed": false
   },
   "outputs": [],
   "source": [
    "#plot(yres2,x13,17,47)\n",
    "plt.show()"
   ]
  },
  {
   "cell_type": "code",
   "execution_count": 57,
   "metadata": {
    "collapsed": true
   },
   "outputs": [],
   "source": [
    "times=np.asarray([24.2250,30.4750,36.7250,42.9750,49.2250,55.4750,61.7250,67.9750]);"
   ]
  },
  {
   "cell_type": "code",
   "execution_count": 67,
   "metadata": {
    "collapsed": true
   },
   "outputs": [],
   "source": [
    "def cycle14a(g2,t):\n",
    "    tp=argmin(abs(t-times))\n",
    "    dg=np.asarray([[0.0]*58]*6)\n",
    "    g=g2.reshape([6,58]);\n",
    "    for a in range(6): #gene\n",
    "        for i in range(58): #nucleus\n",
    "            Tv=T[a][0]*g[0][i]+T[a][1]*g[1][i]+T[a][2]*g[2][i]+T[a][3]*g[3][i]+T[a][4]*g[4][i]+T[a][5]*g[5][i]\n",
    "            ua=Tv+m[a]*bcd14a[i]+h[a]\n",
    "            if(i==0):\n",
    "                vv=(v34[tp][a]-g[a][i])+(g[a][i+1]-g[a][i])\n",
    "            elif(i==57):\n",
    "                vv=(g[a][i-1]-g[a][i])+(v93[tp][a]-g[a][i])\n",
    "            else:\n",
    "                vv=(g[a][i-1]-g[a][i])+(g[a][i+1]-g[a][i])\n",
    "            lmbd=math.log(2.0)/t1_2[a]\n",
    "            dg[a][i]=R[a]*0.5*(ua/((ua**2.0+1)**0.5)+1)+D[a]*vv-lmbd*g[a][i]\n",
    "    dg2=list(dg.reshape(58*6));\n",
    "    return dg2"
   ]
  },
  {
   "cell_type": "raw",
   "metadata": {},
   "source": [
    "def cycle14a(g2,t):\n",
    "    dg=np.asarray([[0.0]*58]*6)\n",
    "    g=g2.reshape([6,58])\n",
    "    tp=argmin(abs(t-times))\n",
    "    for a in range(6):\n",
    "        for i in range(58):\n",
    "            Tv=T[a,0]*g[0,i]+T[a,1]*g[1,i]+T[a,2]*g[2,i]+T[a,3]*g[3,i]+T[a,4]*g[4,i]+T[a,5]*g[5,i];\n",
    "            ua=Tv+m(a)*bcd(i)+h(a);\n",
    "            if(i==1)\n",
    "               vv=(v34(tp,a)-g(a,i))+(g(a,i+1)-g(a,i));\n",
    "            elseif (i==58)\n",
    "               vv=(g(a,i-1)-g(a,i))+(v93(tp,a)-g(a,i));\n",
    "            else\n",
    "               vv=(g(a,i-1)-g(a,i))+(g(a,i+1)-g(a,i));    \n",
    "            end\n",
    "            lmbd=log(2.0)/t1_2(a);\n",
    "            dg(a,i)=R(a)*0.5*(ua/((ua^2.0+1)^0.5)+1)+D(a)*vv-lmbd*g(a,i);\n",
    "    return dg2"
   ]
  },
  {
   "cell_type": "code",
   "execution_count": 59,
   "metadata": {
    "collapsed": true
   },
   "outputs": [],
   "source": [
    "def split(sing):\n",
    "    dble= [0.0]*(len(sing)*2);\n",
    "    for i in range(len(sing)):\n",
    "        dble[2*i]=sing[i];\n",
    "        dble[2*i+1]=sing[i];\n",
    "    return dble"
   ]
  },
  {
   "cell_type": "code",
   "execution_count": 60,
   "metadata": {
    "collapsed": false
   },
   "outputs": [
    {
     "name": "stdout",
     "output_type": "stream",
     "text": [
      "348\n"
     ]
    }
   ],
   "source": [
    "m=split(y2[1,:]);\n",
    "init14a=m[1:59]+m[61:119]+m[121:179]+m[181:239]+m[241:299]+m[301:359];\n",
    "print len(init14a)"
   ]
  },
  {
   "cell_type": "code",
   "execution_count": 11,
   "metadata": {
    "collapsed": false
   },
   "outputs": [],
   "source": [
    "bcd14a = genfromtxt('bcd14a.csv', delimiter=',')\n",
    "v34 = genfromtxt('v34.csv', delimiter=',')\n",
    "v93 = genfromtxt('v93.csv', delimiter=',')"
   ]
  },
  {
   "cell_type": "code",
   "execution_count": 12,
   "metadata": {
    "collapsed": false
   },
   "outputs": [],
   "source": [
    "x14a = genfromtxt('x14a.csv', delimiter=',')\n",
    "x14a = x14a.reshape([8,58,6])\n",
    "x14a = np.swapaxes(x14a,1,2)\n",
    "init14a=x14a[0,:,:].reshape(348)"
   ]
  },
  {
   "cell_type": "raw",
   "metadata": {},
   "source": [
    "times=np.asarray([24.2250,30.4750,36.7250,42.9750,49.2250,55.4750,61.7250,67.9750]);\n",
    "t=40.0\n",
    "print argmin(abs(t-times));"
   ]
  },
  {
   "cell_type": "raw",
   "metadata": {},
   "source": [
    "y3=odeint(cycle14a,init14a,[21.1, 24.225, 30.475, 36.725, 42.975, 49.225, 55.475, 61.725, 67.975, 71.1])"
   ]
  },
  {
   "cell_type": "code",
   "execution_count": 69,
   "metadata": {
    "collapsed": false
   },
   "outputs": [],
   "source": [
    "y3=odeint(cycle14a,init14a,[24.225, 30.475, 36.725, 42.975, 49.225, 55.475, 61.725, 67.975, 71.1])"
   ]
  },
  {
   "cell_type": "code",
   "execution_count": 70,
   "metadata": {
    "collapsed": false
   },
   "outputs": [
    {
     "name": "stdout",
     "output_type": "stream",
     "text": [
      "[  75.46   78.12   80.21   83.79   87.95   90.83   92.88   97.38  100.69\n",
      "  104.42  106.33  109.42  112.77  115.79  121.1   122.85  124.61  128.08\n",
      "  132.2   133.35  135.43  139.64  140.27  142.13  143.13  145.33  146.06\n",
      "  148.31  148.31  149.17  149.11  148.98  149.02  150.45  150.19  149.88\n",
      "  149.49  147.69  148.76  148.21  147.93  145.04  145.35  141.11  139.78\n",
      "  141.31  137.86  135.42  135.09  132.91  133.91  130.79  130.56  128.6\n",
      "  126.63  127.1   121.77  119.68]\n"
     ]
    }
   ],
   "source": [
    "x14a = genfromtxt('x14a.csv', delimiter=',')\n",
    "x14a = x14a.reshape([8,58,6])\n",
    "x14a = np.swapaxes(x14a,1,2)\n",
    "print x14a[0,0,:]"
   ]
  },
  {
   "cell_type": "raw",
   "metadata": {},
   "source": [
    "for i in range(8):\n",
    "    yres=y3[i+1,:].reshape([6,58])\n",
    "    plot(yres,x14a[i,:],35,93)\n",
    "    plt.show()"
   ]
  },
  {
   "cell_type": "code",
   "execution_count": 66,
   "metadata": {
    "collapsed": true
   },
   "outputs": [],
   "source": [
    "for i in range(8):\n",
    "    yres=y3[i,:].reshape([6,58])\n",
    "    plot(yres,x14a[i,:],35,93)\n",
    "    plt.show()"
   ]
  },
  {
   "cell_type": "code",
   "execution_count": 39,
   "metadata": {
    "collapsed": false
   },
   "outputs": [
    {
     "name": "stdout",
     "output_type": "stream",
     "text": [
      "[ 41.55    38.843   37.294   34.83    32.708   31.52    29.781   27.749\n",
      "  26.166   24.816   23.584   21.889   20.657   19.375   18.098   16.885\n",
      "  16.281   15.016   13.711   13.255   11.982   11.409   10.835   10.279\n",
      "   9.2725   9.165    8.5275   7.7737   7.0725   6.6075   6.0375   6.09\n",
      "   5.7212   5.23     5.2175   4.7113   4.5862   4.4625   4.1738   3.5938\n",
      "   3.5863   3.1912   3.1825   3.6725   3.1162   3.0125   2.59     2.6637\n",
      "   2.3187   2.2713   2.4013   2.1075   2.1637   1.9387   1.985    2.1913\n",
      "   2.1788   1.9938]\n"
     ]
    }
   ],
   "source": [
    "print bcd14a"
   ]
  },
  {
   "cell_type": "code",
   "execution_count": null,
   "metadata": {
    "collapsed": true
   },
   "outputs": [],
   "source": []
  }
 ],
 "metadata": {
  "kernelspec": {
   "display_name": "Python 2",
   "language": "python",
   "name": "python2"
  },
  "language_info": {
   "codemirror_mode": {
    "name": "ipython",
    "version": 2
   },
   "file_extension": ".py",
   "mimetype": "text/x-python",
   "name": "python",
   "nbconvert_exporter": "python",
   "pygments_lexer": "ipython2",
   "version": "2.7.12"
  }
 },
 "nbformat": 4,
 "nbformat_minor": 0
}
